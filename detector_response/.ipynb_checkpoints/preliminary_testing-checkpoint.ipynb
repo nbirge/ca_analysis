{
 "cells": [
  {
   "cell_type": "code",
   "execution_count": null,
   "metadata": {},
   "outputs": [],
   "source": [
    "from numpy import *; from matplotlib.pyplot import *\n",
    "from scipy.signal import fftconvolve"
   ]
  },
  {
   "cell_type": "code",
   "execution_count": null,
   "metadata": {},
   "outputs": [],
   "source": [
    "def gauss(t,mu=0,sigma=1):\n",
    "    return (2*3.14159*sigma**2.)**(-0.5)*exp(-(t-t[mu])**2./(2.*sigma**2.))\n",
    "t=linspace(0,100,1000)\n",
    "plot(t,gauss(t,mu=50))\n",
    "show()\n"
   ]
  },
  {
   "cell_type": "code",
   "execution_count": null,
   "metadata": {},
   "outputs": [],
   "source": [
    "d=np.zeros_like(t)\n",
    "d[200]=1\n",
    "print(t[200])\n",
    "sigma=1\n",
    "mu=60\n",
    "beg,end=len(t[t<mu]),len(t)+len(t[t<mu])\n",
    "plot(t,gauss(t,mu=mu,sigma=sigma))\n",
    "# con=convolve(d,gauss(t,mu=mu,sigma=sigma),mode='full')[beg:end]\n",
    "fftcon=fftconvolve(d,gauss(t,mu=mu,sigma=sigma),mode='full')[beg:end]\n",
    "# diff=(con-fftcon)\n",
    "plot(t,d)\n",
    "# plot(t,con\n",
    "plot(t,fftcon)"
   ]
  },
  {
   "cell_type": "code",
   "execution_count": 161,
   "metadata": {},
   "outputs": [
    {
     "name": "stdout",
     "output_type": "stream",
     "text": [
      "1349 395 350 70 650 320 400 749\n"
     ]
    },
    {
     "data": {
      "text/plain": [
       "<matplotlib.legend.Legend at 0x7f6bcfa871d0>"
      ]
     },
     "execution_count": 161,
     "metadata": {},
     "output_type": "execute_result"
    },
    {
     "data": {
      "image/png": "[encoded data removed]",
      "text/plain": [
       "<Figure size 1080x720 with 1 Axes>"
      ]
     },
     "metadata": {
      "needs_background": "light"
     },
     "output_type": "display_data"
    }
   ],
   "source": [
    "t=linspace(0,100,1000)\n",
    "trutharray=(t>40)*(t<75)\n",
    "d=np.zeros_like(t[trutharray])\n",
    "fitbins=t[trutharray]\n",
    "bIn=70\n",
    "d[bIn]=1\n",
    "d[bIn+73]=1\n",
    "sigma=3\n",
    "mu=320\n",
    "beg,end=np.where(t==t[trutharray][0])[0][0],np.where(t==t[trutharray][-1])[0][0]\n",
    "# mu=t[int(end-beg/2)]\n",
    "\n",
    "# beg,end=len(t[t<mu]),len(t)+len(t[t<mu])\n",
    "# plot(t,gauss(t,mu=mu,sigma=sigma))\n",
    "# con=convolve(d,gauss(t,mu=mu,sigma=sigma),mode='full')[beg:end]\n",
    "fftcon=fftconvolve(d,gauss(t,mu=mu,sigma=sigma),mode='full')\n",
    "# diff=(con-fftcon)\n",
    "fig,ax=subplots(nrows=1,ncols=1,figsize=(15,10))\n",
    "ax.plot(t[trutharray],d,ds='steps',label='original wave')\n",
    "plot(t,gauss(t,mu,sigma)+0.1,label='filter')\n",
    "# ax[1].plot(arange(len(fftcon)),fftcon)\n",
    "print(len(fftcon),np.argmax(fftcon),len(d),np.argmax(d),len(t)-len(d),mu,beg,end)\n",
    "# beg,end=0,len(t)\n",
    "ax.plot(t[beg-mu:end-mu]+t[mu],fftcon[mu:mu+end-beg]+0.2,ds='steps',label='conv')\n",
    "legend()\n",
    "# plot()\n",
    "# plot(t,con\n",
    "# plot(t,fftcon)"
   ]
  },
  {
   "cell_type": "code",
   "execution_count": null,
   "metadata": {},
   "outputs": [],
   "source": [
    "simloc= '/home/noah/Desktop/large_analysis/zeck_simulation/'\n",
    "snsim=np.load(simloc+'snbpdip/113Sn-single_event.npy')\n",
    "det_resp='home'"
   ]
  }
 ],
 "metadata": {
  "kernelspec": {
   "display_name": "Python 3",
   "language": "python",
   "name": "python3"
  },
  "language_info": {
   "codemirror_mode": {
    "name": "ipython",
    "version": 3
   },
   "file_extension": ".py",
   "mimetype": "text/x-python",
   "name": "python",
   "nbconvert_exporter": "python",
   "pygments_lexer": "ipython3",
   "version": "3.6.8"
  }
 },
 "nbformat": 4,
 "nbformat_minor": 4
}
