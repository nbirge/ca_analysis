{
 "cells": [
  {
   "cell_type": "code",
   "execution_count": null,
   "metadata": {},
   "outputs": [],
   "source": [
    "from numpy import *; from numpy.core.records import fromarrays;from scipy.constants import *\n",
    "from matplotlib.pyplot import *\n",
    "import sys; sys.path.insert(0,'/home/noah/Desktop/large_analysis/ca_analysis/'); import os\n",
    "import predefined as pd; import fileread as fr\n",
    "import pickle\n",
    "from scipy.signal import fftconvolve; from scipy.optimize import curve_fit\n",
    "import time\n",
    "\n",
    "\n"
   ]
  }
 ],
 "metadata": {
  "kernelspec": {
   "display_name": "Python 3",
   "language": "python",
   "name": "python3"
  },
  "language_info": {
   "codemirror_mode": {
    "name": "ipython",
    "version": 3
   },
   "file_extension": ".py",
   "mimetype": "text/x-python",
   "name": "python",
   "nbconvert_exporter": "python",
   "pygments_lexer": "ipython3",
   "version": "3.6.8"
  }
 },
 "nbformat": 4,
 "nbformat_minor": 4
}
