{
 "cells": [
  {
   "cell_type": "code",
   "execution_count": 1,
   "metadata": {},
   "outputs": [],
   "source": [
    "import sys\n",
    "sys.path.insert(0,'/home/noah/Desktop/large_analysis/ca_analysis/')\n",
    "from matplotlib.pyplot import*\n",
    "import fileread as fr\n",
    "import predefined as pd\n",
    "import wave_ops as wo\n",
    "import time\n",
    "import numpy as np\n",
    "from scipy.optimize import curve_fit\n",
    "import os\n",
    "from scipy.constants import *\n",
    "import random\n",
    "# calibration=np.load('/home/noah/Desktop/large_analysis/ca_analysis/simulation_comparison/calibration.npy')\n",
    "# calibration=calibration.view(np.recarray)\n",
    "# def calibrate(energy_type,board,channel): \n",
    "#     bdch=int(board*8+channel) \n",
    "#     if bdch ==6: \n",
    "#         m,b=1/calibration.slope[3],calibration.offset[3]\n",
    "#     elif bdch==11: \n",
    "#         m,b=1/calibration.slope[0],calibration.offset[0]\n",
    "#     elif bdch==12: \n",
    "#         m,b=1/calibration.slope[1],calibration.offset[1]\n",
    "#     elif bdch==35: \n",
    "#         m,b=1/calibration.slope[2],calibration.offset[2]\n",
    "#     else: \n",
    "#         m,b=0,0   \n",
    "#     return (energy_type-b)*m\n",
    "# vec_calibrate=np.vectorize(calibrate)\n",
    "path='/home/noah/Desktop/large_analysis/ca_analysis/cur_data/'\n",
    "outpath='/home/noah/Desktop/large_analysis/ca_analysis/cur_data/multi_pixel/'"
   ]
  },
  {
   "cell_type": "code",
   "execution_count": 4,
   "metadata": {},
   "outputs": [
    {
     "name": "stdout",
     "output_type": "stream",
     "text": [
      "Run_99-all.dat finished in 41.469"
     ]
    }
   ],
   "source": [
    "for thresh in [120,150]:\n",
    "    runs=[run for run in os.listdir(path) if (run.endswith('all.dat') and run!= 'Run_0-all.dat')]\n",
    "    runs.sort()\n",
    "    # run=[x for x in runs if x=='Run_120-all.dat'][0]\n",
    "    # data=fr.gen_output(path+run)[0]\n",
    "    # data=data[pd.good_timestamps(data)]\n",
    "    # data.sort(order='timestamp')\n",
    "    random.shuffle(runs)\n",
    "    for run in runs[0:int(len(runs)/2)]:\n",
    "        multi=fr.gen_output(path+run)[0]\n",
    "        multi=multi[pd.good_timestamps(multi)]\n",
    "        multi.sort(order='timestamp')\n",
    "        fs=35\n",
    "        beg=time.time()\n",
    "        energy_type='energy'\n",
    "        twindow=100\n",
    "        dummy='''trutharray=np.zeros(len(data))\n",
    "        for i in [11,12,35]:\n",
    "            bd,ch=int(i/8),int(i%8)\n",
    "            trutharray=pd.lor(trutharray,\\\n",
    "                        pd.land(data['board']==bd,data['channel']==ch))'''\n",
    "\n",
    "        # multi=data.copy()\n",
    "        # del data\n",
    "        multi[energy_type]=pd.vec_calibrate(multi[energy_type],multi['board'],multi['channel'])\n",
    "        multi=multi[multi[energy_type]>thresh]\n",
    "        multi=multi[multi['t0']>600]\n",
    "        multi.sort(order='timestamp')\n",
    "        multi=multi[pd.lor(multi['pilediff']<twindow,multi['pileup']<2)]\n",
    "        # multi=multi[pd.doubles(multi,energy_type)]\n",
    "        # print(time.time()-beg)\n",
    "\n",
    "        # cut=multi.copy()\n",
    "\n",
    "        i,j=0,0\n",
    "        while i<len(multi)-1 and j<len(multi)-1:\n",
    "            j=i+1\n",
    "            backscattering=multi['timestamp'][j]-multi['timestamp'][i] < twindow\n",
    "            energy=multi[energy_type][i]\n",
    "            while backscattering and j<len(multi)-1:\n",
    "                energy+=multi[energy_type][j]\n",
    "                multi[energy_type][j]=-10\n",
    "                j+=1\n",
    "                backscattering=multi['timestamp'][j]-multi['timestamp'][i] < twindow\n",
    "            multi[energy_type][i]=energy\n",
    "            i=j\n",
    "        print('\\r'+30*' ',end='')\n",
    "        print('\\r'+run+' finished in {:0.2f}'.format(time.time()-beg),end='')\n",
    "\n",
    "        np.save(file=outpath+run[:-8]+'-W-'+str(twindow)+'-T-'+str(thresh),arr=multi)       ####This is the array of interest\n",
    "# np.save(file=path+'pre-multi_cut_'+str(run)+'_window-'+str(twindow),arr=cut)"
   ]
  },
  {
   "cell_type": "code",
   "execution_count": null,
   "metadata": {},
   "outputs": [],
   "source": []
  },
  {
   "cell_type": "code",
   "execution_count": null,
   "metadata": {},
   "outputs": [],
   "source": []
  }
 ],
 "metadata": {
  "kernelspec": {
   "display_name": "Python 3",
   "language": "python",
   "name": "python3"
  },
  "language_info": {
   "codemirror_mode": {
    "name": "ipython",
    "version": 3
   },
   "file_extension": ".py",
   "mimetype": "text/x-python",
   "name": "python",
   "nbconvert_exporter": "python",
   "pygments_lexer": "ipython3",
   "version": "3.6.8"
  }
 },
 "nbformat": 4,
 "nbformat_minor": 4
}
