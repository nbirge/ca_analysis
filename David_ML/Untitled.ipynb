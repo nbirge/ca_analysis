{
 "cells": [
  {
   "cell_type": "code",
   "execution_count": 4,
   "metadata": {},
   "outputs": [],
   "source": [
    "import numpy as np; from matplotlib.pyplot import *\n",
    "from scipy.signal import fftconvolve; from scipy.optimize import curve_fit\n",
    "from numba import jit\n",
    "import os\n",
    "from sklearn.cluster import KMeans; from sklearn.cluster import MiniBatchKMeans\n",
    "import sys; sys.path.insert(0,'/home/noah/Desktop/large_analysis/ca_analysis/')\n",
    "import fileread as fr; import wave_ops as wo;import predefined as pd\n",
    "from numpy.fft import fft"
   ]
  },
  {
   "cell_type": "code",
   "execution_count": 5,
   "metadata": {},
   "outputs": [],
   "source": [
    "path='/home/noah/Desktop/large_analysis/ca_analysis/cur_data/Run_131_0.bin'\n",
    "wfs=fr.raw(path=path,numwaves=200000)\n",
    "wo.baseline_restore(wfs)"
   ]
  },
  {
   "cell_type": "code",
   "execution_count": null,
   "metadata": {},
   "outputs": [],
   "source": []
  }
 ],
 "metadata": {
  "kernelspec": {
   "display_name": "Python 3",
   "language": "python",
   "name": "python3"
  },
  "language_info": {
   "codemirror_mode": {
    "name": "ipython",
    "version": 3
   },
   "file_extension": ".py",
   "mimetype": "text/x-python",
   "name": "python",
   "nbconvert_exporter": "python",
   "pygments_lexer": "ipython3",
   "version": "3.6.9"
  }
 },
 "nbformat": 4,
 "nbformat_minor": 4
}
