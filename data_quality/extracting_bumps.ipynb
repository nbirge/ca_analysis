{
 "cells": [
  {
   "cell_type": "code",
   "execution_count": 1,
   "metadata": {},
   "outputs": [],
   "source": [
    "from numpy import *; from numpy.core.records import fromarrays\n",
    "from matplotlib.pyplot import *\n",
    "import sys; sys.path.insert(0,'/home/noah/Desktop/large_analysis/ca_analysis/'); import os\n",
    "import predefined as pd; import fileread as fr\n",
    "import pickle\n",
    "import time\n",
    "\n",
    "with open('/home/noah/Desktop/large_analysis/ca_analysis/detector_response/detector_response.pickle','rb') as f:\n",
    "    detector_response=pickle.load(f)           "
   ]
  },
  {
   "cell_type": "code",
   "execution_count": 2,
   "metadata": {},
   "outputs": [],
   "source": [
    "nbins,rang=2000,[0,800]\n",
    "\n",
    "path='/home/noah/Desktop/large_analysis/zeck_simulation/ca_small_set/'\n",
    "b0,b1=load(path+'45Ca_b0.npy'),load(path+'45Ca_b1.npy')               # Reading in 45Ca b=1 b=0 PENELOPE spectra\n",
    "b0,b1=pd.sim_restructure(b0),pd.sim_restructure(b1)                   # Restructuring the sim data\n",
    "b0,b1=b0.view(recarray),b1.view(recarray)                             # Making the spectra record arrays (easier)\n",
    "Fullb0,Fullb1=pd.sim_comb_single_pixel(b0),pd.sim_comb_single_pixel(b1)  #Perfect summed simulated spectra\n",
    "Fullb0,Fullb1=Fullb0.view(recarray),Fullb1.view(recarray)\n",
    "Fullb0_hist=histogram(Fullb0.energy,bins=nbins,range=rang)[0]\n",
    "Fullb1_hist=histogram(Fullb1.energy,bins=nbins,range=rang)[0]\n",
    "Norm_b0 = 1./np.sum(Fullb0_hist)        # This is used later when taking difference of b=1 and b=0 spectra\n",
    "Norm_b1 = 1./np.sum(Fullb1_hist)        # This is used later when taking difference of b=1 and b=0 spectra"
   ]
  },
  {
   "cell_type": "markdown",
   "metadata": {},
   "source": [
    "#### Making simulated single pixel spectra\n",
    "Note: the smearing is done here. E-->E+deltaE, where deltaE=np.random.normal(loc=0,scale=sigma)"
   ]
  },
  {
   "cell_type": "code",
   "execution_count": 3,
   "metadata": {},
   "outputs": [],
   "source": [
    "thresh=50                     # in keV\n",
    "coinc_window=400e-9\n",
    "bdchs=[11,12,35,36]                            #This includes 52,64,65W and 64E\n",
    "# bdchs=[11]                            #This includes 52,64,65W and 64E\n",
    "\n",
    "truth0,truth1=np.zeros(len(b0),dtype=bool),np.zeros(len(b1),dtype=bool)\n",
    "for bdch in bdchs:                     #Taking sim events ONLY for bdchs\n",
    "    bd,ch=int(bdch/8),int(bdch%8)\n",
    "    truth0+=(b0.board==bd)*(b0.channel==ch)\n",
    "    truth1+=(b1.board==bd)*(b1.channel==ch)\n",
    "sb0,sb1=b0[truth0],b1[truth1]\n",
    "sb0,sb1=sb0.view(np.recarray),sb1.view(np.recarray)\n",
    "\n",
    "for bdch in bdchs:\n",
    "    bd,ch=int(bdch/8),int(bdch%8)\n",
    "    sigma=detector_response[bdch]                 # Detector response for bd,ch\n",
    "    trutharray=(sb0.board==bd)*(sb0.channel==ch)  # events in sb0= with bd ch\n",
    "    sb0.energy[trutharray] += np.random.normal(loc=0,scale=sigma,size=np.sum(trutharray))\n",
    "    trutharray=(sb1.board==bd)*(sb1.channel==ch)  # events in sb0= with bd ch\n",
    "    sb1.energy[trutharray] += np.random.normal(loc=0,scale=sigma,size=np.sum(trutharray))\n",
    "    \n",
    "sb0=sb0[sb0.energy>thresh]                          #Applying threshold cut to sim\n",
    "sb1=sb1[sb1.energy>thresh]                    #Applying threshold cut to sim\n",
    "\n",
    "sb0=pd.sim_sing_pix_coinc(sb0,coinc_window) #Summing events within a coinc_window timewindow\n",
    "sb0=sb0[pd.sim_single_event(sb0)]           # Making single pixel sim spectra\n",
    "sb1=pd.sim_sing_pix_coinc(sb1,coinc_window) #Summing events within a coinc_window timewindow\n",
    "sb1=sb1[pd.sim_single_event(sb1)]           # Making single pixel sim spectra"
   ]
  },
  {
   "cell_type": "markdown",
   "metadata": {},
   "source": [
    "#### Making simulated single pixel histograms with smearing"
   ]
  },
  {
   "cell_type": "code",
   "execution_count": 4,
   "metadata": {},
   "outputs": [],
   "source": [
    "# nbins,rang= 1000, (0,800)                           # 0.8 keV wide bins\n",
    "b0_hist,bins=histogram([],bins=nbins,range=rang)   #b0 single pixel histogram\n",
    "b1_hist,bins=histogram([],bins=nbins,range=rang)   #b1 single pixel histogram\n",
    "b0_hist,b1_hist=b0_hist.astype(float),b1_hist.astype(float)\n",
    "bins=pd.cbins(bins)\n",
    "\n",
    "# bdchs_of_interest=bdchs\n",
    "\n",
    "bdchs_of_interest=[35]\n",
    "# bdchs_of_interest=[11]\n",
    "# bdchs_of_interest=[12]\n",
    "# bdchs_of_interest=[35,12]\n",
    "# bdchs_of_interest=[11,12,35]\n",
    "\n",
    "for bdch in bdchs_of_interest:             # Looping over bdchs to smear sim pixel-by-pixel\n",
    "    bd,ch=int(bdch/8),int(bdch%8)\n",
    "    trutharray=(sb0.board==bd)*(sb0.channel==ch)  # events in sb0= with bd ch\n",
    "    b0_hist+=histogram(sb0.energy[trutharray],bins=nbins,range=rang)[0]\n",
    "    \n",
    "    trutharray=(sb1.board==bd)*(sb1.channel==ch)  # events in sb1= with bd ch\n",
    "    b1_hist+=histogram(sb1.energy[trutharray],bins=nbins,range=rang)[0]\n",
    "b0_hist*=Norm_b0\n",
    "b1_hist*=Norm_b1                            # Normalizing the total number of counts in b1 to that of b1"
   ]
  },
  {
   "cell_type": "code",
   "execution_count": 14,
   "metadata": {},
   "outputs": [
    {
     "name": "stdout",
     "output_type": "stream",
     "text": [
      "Run_99-all.dat      "
     ]
    }
   ],
   "source": [
    "bins=np.arange(rang[1]/2./nbins,rang[1],rang[1]/nbins).astype('f4')\n",
    "\n",
    "fs=30\n",
    "bdch=11\n",
    "bd,ch=divmod(bdch,8)\n",
    "\n",
    "path='/home/noah/Desktop/large_analysis/ca_analysis/cur_data/'\n",
    "runs=[run for run in os.listdir(path) if run.endswith('all.dat')]\n",
    "runs.sort()\n",
    "\n",
    "for run in runs:\n",
    "    fig,ax=subplots(nrows=2,figsize=(30,20),num=1,sharex=True)\n",
    "    print('\\r'+20*' ',end='')\n",
    "    print('\\r'+run,end='')\n",
    "    data=(fr.gen_output(path+run)[0]).view(np.recarray)\n",
    "    data=data[data.energy>100]\n",
    "    data.energy=pd.vec_calibrate(data.energy,data.board,data.channel)\n",
    "    data=pd.precuts(data,energy=50)\n",
    "\n",
    "    t=(data.board==bd)*(data.channel==ch)\n",
    "    h=histogram(data.energy[t],bins=nbins,range=rang)[0].astype(float)\n",
    "    t=(b0.board==bd)*(b0.channel==ch)\n",
    "    b=histogram(b0.energy[t],bins=nbins,range=rang)[0].astype(float)\n",
    "    \n",
    "    normbin=np.nonzero(bins==71)[0][0]\n",
    "    norm=np.sum(h[normbin-1:normbin+1])/np.sum(b[normbin-1:normbin+1])\n",
    "\n",
    "\n",
    "\n",
    "    ax[0].plot(bins,h,ds='steps',label='data')\n",
    "    ax[0].plot(bins,b*norm,ds='steps',label='sim')\n",
    "    ax[0].set_xlim(50,255)\n",
    "    ax[0].set_ylim(0,3e3)\n",
    "    ax1=ax[0].twinx()\n",
    "    ax1.plot(bins,h-b*norm,ds='steps',c='r')\n",
    "    ax1.set_ylim(-250,500)\n",
    "    ax1.tick_params('y',labelsize=fs,colors='r')\n",
    "    ax[0].tick_params(labelsize=fs)\n",
    "    ax[0].set_title(run[:-8],fontsize=fs)\n",
    "    ax[0].legend(fontsize=fs)\n",
    "    \n",
    "    normbin=np.nonzero(bins==191)[0][0]\n",
    "    norm=np.sum(h[normbin-1:normbin+1])/np.sum(b[normbin-1:normbin+1])    \n",
    "    \n",
    "    ax[1].plot(bins,h,ds='steps',label='data')\n",
    "    ax[1].plot(bins,b*norm,ds='steps',label='sim')\n",
    "    ax[1].set_xlim(50,255)\n",
    "    ax[1].set_ylim(0,3e3)\n",
    "    ax1=ax[1].twinx()\n",
    "    ax1.plot(bins,h-b*norm,ds='steps',c='r')\n",
    "    ax1.set_ylim(-250,500)\n",
    "    ax1.tick_params('y',labelsize=fs,colors='r')\n",
    "    ax[1].tick_params(labelsize=fs)\n",
    "    ax[1].set_title(run[:-8],fontsize=fs)\n",
    "    ax[1].set_xlabel('Energy [keV]',fontsize=fs)\n",
    "    ax[1].legend(fontsize=fs)\n",
    "    tight_layout()\n",
    "    savefig('./all_the_figs/'+run[:-8]+'-norm_before_after')\n",
    "    close(fig=1)\n",
    "# show()"
   ]
  },
  {
   "cell_type": "code",
   "execution_count": null,
   "metadata": {},
   "outputs": [],
   "source": []
  }
 ],
 "metadata": {
  "kernelspec": {
   "display_name": "Python 3",
   "language": "python",
   "name": "python3"
  },
  "language_info": {
   "codemirror_mode": {
    "name": "ipython",
    "version": 3
   },
   "file_extension": ".py",
   "mimetype": "text/x-python",
   "name": "python",
   "nbconvert_exporter": "python",
   "pygments_lexer": "ipython3",
   "version": "3.8.5"
  }
 },
 "nbformat": 4,
 "nbformat_minor": 4
}
