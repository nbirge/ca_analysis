{
 "cells": [
  {
   "cell_type": "code",
   "execution_count": 1,
   "metadata": {},
   "outputs": [],
   "source": [
    "import sys\n",
    "sys.path.insert(0, '/home/noah/Desktop/large_analysis/ca_analysis')\n",
    "import numpy as np\n",
    "import matplotlib.pyplot as plt\n",
    "import fileread as fr\n",
    "import predefined as pd\n",
    "import wave_ops as wo\n",
    "from scipy.optimize import curve_fit\n",
    "import time\n",
    "\n",
    "\n",
    "data=fr.gen_output('/home/noah/Desktop/large_analysis/ca_analysis/cur_data/Run_120-all.dat')[0]\n",
    "simdata=fr.simulation('/home/noah/Desktop/large_analysis/zeck_simulation/45Caaf.txt')"
   ]
  },
  {
   "cell_type": "markdown",
   "metadata": {},
   "source": [
    "No data cuts, just looking at number of events for each raw set. For real data this includes quite a bit of noise triggers/pulser events etc. For simulation, this does not sum backscattered events."
   ]
  },
  {
   "cell_type": "code",
   "execution_count": 28,
   "metadata": {},
   "outputs": [
    {
     "name": "stdout",
     "output_type": "stream",
     "text": [
      "Fraction of all data on 64W = 29.90\n",
      "Fraction of simulation on 64W = 43.04\n"
     ]
    }
   ],
   "source": [
    "table=np.zeros((10,10))\n",
    "cut=[]\n",
    "\n",
    "bd,ch=1,3\n",
    "tot=len(data)\n",
    "frac= 100 #100.*len(pd.single_pixel(data,bd,ch))/len(data)\n",
    "cut.append('None')\n",
    "eastfrac=np.sum(data['board']>2)/len(data)\n",
    "westfrac=1-eastfrac\n",
    "table[0,0:2]=tot,frac\n",
    "print('Fraction of all data on '+pd.pixel(bd,ch)+\\\n",
    "      ' = {:0.2f}'.format(100.*len(pd.single_pixel(data,bd,ch))/len(data)))\n",
    "#count=0    NOT DOING THIS UNLESS REQUIRED\n",
    "#while i < len(simdata)-1:\n",
    "#    j=1\n",
    "#    backscattering= simdata['entry'][i]==simdata['entry'][i+1]\n",
    "#    if simdata['pixel'][i]==pix and simdata['detector'][i]==det\\\n",
    "#    and not backscattering:\n",
    "#        count+=1\n",
    "#        i+=1\n",
    "#    while backscattering:\n",
    "#        if simdata['pixel'][j] == pix and simdata['detector'][j]== det\\\n",
    "#        and \n",
    "tot=len(simdata)\n",
    "frac= 100 #100.*len(pd.single_pixel(data,bd,ch))/len(data)        \n",
    "table[0,4:6]=tot,frac\n",
    "print('Fraction of simulation on '+pd.pixel(bd,ch)+\\\n",
    "      ' = {:0.2f}'.format(100*len(pd.sim_single_pixel(simdata,bd,ch))/len(simdata)))"
   ]
  },
  {
   "cell_type": "markdown",
   "metadata": {},
   "source": [
    "Making E>16 keV cut and removing pulser from counts:"
   ]
  },
  {
   "cell_type": "code",
   "execution_count": 29,
   "metadata": {},
   "outputs": [
    {
     "name": "stdout",
     "output_type": "stream",
     "text": [
      "Fraction of all data on 64W = 42.39\n",
      "Fraction of all data on 64W = 43.20\n"
     ]
    }
   ],
   "source": [
    "cutdata=data[pd.land(data['energy']>100,data['energy']<2000)]\n",
    "count=len(pd.single_pixel(cutdata,bd,ch))\n",
    "print('Fraction of all data on '+pd.pixel(bd,ch)+\\\n",
    "      ' = {:0.2f}'.format(100*count/len(cutdata)))\n",
    "tot=len(cutdata)\n",
    "frac=100*tot/table[0,0]\n",
    "table[1,0:2]=tot,frac\n",
    "\n",
    "\n",
    "simcut=simdata[simdata['energy']>16]\n",
    "count=len(pd.sim_single_pixel(simcut,bd,ch))\n",
    "print('Fraction of all data on '+pd.pixel(bd,ch)+\\\n",
    "      ' = {:0.2f}'.format(100*count/len(simcut)))\n",
    "tot=len(simcut)\n",
    "frac=tot/table[0,4]*100\n",
    "table[1,4:6]=tot,frac\n",
    "cut.append('E>16 keV')"
   ]
  },
  {
   "cell_type": "markdown",
   "metadata": {},
   "source": [
    "Making single pixel cut ($\\Delta t$ > 1 $\\mu $s)"
   ]
  },
  {
   "cell_type": "code",
   "execution_count": 30,
   "metadata": {},
   "outputs": [
    {
     "name": "stdout",
     "output_type": "stream",
     "text": [
      "Fraction of all data on 64W = 44.11\n",
      "Fraction of all data on 64W = 42.97\n"
     ]
    }
   ],
   "source": [
    "cutdata.sort(order='timestamp')\n",
    "t0,t1,t2=cutdata['timestamp'][0:-2],cutdata['timestamp'][1:-1],\\\n",
    "        cutdata['timestamp'][2:]\n",
    "trutharray=pd.land(t2-t1>250,t1-t0>250)\n",
    "cutdata=cutdata[1:-1][trutharray]\n",
    "count=len(pd.single_pixel(cutdata,bd,ch))\n",
    "print('Fraction of all data on '+pd.pixel(bd,ch)+\\\n",
    "      ' = {:0.2f}'.format(100*count/len(cutdata)))\n",
    "tot=len(cutdata)\n",
    "frac=tot/table[1,0]*100\n",
    "table[2,0:2]=tot,frac\n",
    "\n",
    "\n",
    "simcut=pd.sim_comb_single_pixel(pd.sim_spixel_cut(simdata))\n",
    "simcut=simcut[simcut['pixel']!=0]\n",
    "count= len(pd.sim_single_pixel(simcut,bd,ch))\n",
    "print('Fraction of all data on '+pd.pixel(bd,ch)+\\\n",
    "      ' = {:0.2f}'.format(100*count/len(simcut)))\n",
    "tot=len(simcut)\n",
    "frac=tot/table[1,4]*100\n",
    "table[2,4:6]=tot,frac\n",
    "cut.append('1 us cut')"
   ]
  },
  {
   "cell_type": "markdown",
   "metadata": {},
   "source": [
    "Removing accidental pileup (ONLY APPICABLE TO DATA, simulation unchanged)"
   ]
  },
  {
   "cell_type": "code",
   "execution_count": 31,
   "metadata": {},
   "outputs": [
    {
     "name": "stdout",
     "output_type": "stream",
     "text": [
      "Fraction of all data on 64W = 44.60\n",
      "Fraction of all data on 64W = 42.97\n"
     ]
    }
   ],
   "source": [
    "cutdata=cutdata[pd.lor(cutdata['pileup']<2,cutdata['pilediff']<60)]\n",
    "count=len(pd.single_pixel(cutdata,bd,ch))\n",
    "print('Fraction of all data on '+pd.pixel(bd,ch)+\\\n",
    "      ' = {:0.2f}'.format(100*count/len(cutdata)))\n",
    "\n",
    "tot=len(cutdata)\n",
    "frac=tot/table[2,0]*100\n",
    "table[3,0:2]=tot,frac\n",
    "\n",
    "count= len(pd.sim_single_pixel(simcut,bd,ch))\n",
    "print('Fraction of all data on '+pd.pixel(bd,ch)+\\\n",
    "      ' = {:0.2f}'.format(100*count/len(simcut)))\n",
    "cut.append('Pileup')"
   ]
  },
  {
   "cell_type": "markdown",
   "metadata": {},
   "source": [
    "Removing all events with t_0 <900 bins (events with unusual triggers), again not applicable to simulation"
   ]
  },
  {
   "cell_type": "code",
   "execution_count": 32,
   "metadata": {},
   "outputs": [
    {
     "name": "stdout",
     "output_type": "stream",
     "text": [
      "Fraction of all data on 64W = 44.72\n",
      "Fraction of all data on 64W = 42.97\n"
     ]
    }
   ],
   "source": [
    "cutdata=cutdata[cutdata['t0']>900]\n",
    "count=len(pd.single_pixel(cutdata,bd,ch))\n",
    "print('Fraction of all data on '+pd.pixel(bd,ch)+\\\n",
    "      ' = {:0.2f}'.format(100*count/len(cutdata)))\n",
    "tot=len(cutdata)\n",
    "frac=tot/table[3,0]*100\n",
    "table[4,0:2]=tot,frac\n",
    "\n",
    "\n",
    "count= len(pd.sim_single_pixel(simcut,bd,ch))\n",
    "print('Fraction of all data on '+pd.pixel(bd,ch)+\\\n",
    "      ' = {:0.2f}'.format(100*count/len(simcut)))\n",
    "cut.append('t0>900')"
   ]
  },
  {
   "cell_type": "code",
   "execution_count": 38,
   "metadata": {},
   "outputs": [
    {
     "name": "stdout",
     "output_type": "stream",
     "text": [
      "Cut \t\t Data counts \t Data Fraction (%) \t Simulation Counts \t Simulation Fraction\n",
      "----------------------------------------------------------------------------------------------------\n",
      "None \t\t 4932208 \t 100.0 \t\t\t 8005312 \t\t 100.00\n",
      "E>16 keV \t 1679611 \t 34.1 \t\t\t 6233546 \t\t 77.87\n",
      "1 us cut \t 1202737 \t 71.6 \t\t\t 5171304 \t\t 82.96\n",
      "Pileup \t\t 1188216 \t 98.8 \t\t\t N/A      \t\t N/A\n",
      "t0>900 \t\t 1184418 \t 99.7 \t\t\t N/A      \t\t N/A\n"
     ]
    }
   ],
   "source": [
    "print('Cut','\\t\\t','Data counts','\\t','Data Fraction (%)','\\t','Simulation Counts','\\t','Simulation Fraction')\n",
    "print(100*'-')\n",
    "for i in range(5):\n",
    "    [s1,s2],[s3,s4]=table[i,0:2],table[i,4:6]\n",
    "    if s3 == 0:\n",
    "        s1,s2='{:0.0f}'.format(s1),'{:0.1f}'.format(s2)\n",
    "        s3,s4='N/A     ','N/A'\n",
    "    else:\n",
    "        s1,s2,s3,s4='{:0.0f}'.format(s1),'{:0.1f}'.format(s2),'{:0.0f}'.format(s3),'{:0.2f}'.format(s4)\n",
    "    if i==1 or i==2:\n",
    "        spacetab='\\t'\n",
    "    else:\n",
    "            spacetab='\\t\\t'\n",
    "    print (cut[i],spacetab,s1,'\\t',s2,'\\t\\t\\t',s3,'\\t\\t',s4)"
   ]
  },
  {
   "cell_type": "code",
   "execution_count": null,
   "metadata": {},
   "outputs": [],
   "source": []
  }
 ],
 "metadata": {
  "kernelspec": {
   "display_name": "Python 3",
   "language": "python",
   "name": "python3"
  },
  "language_info": {
   "codemirror_mode": {
    "name": "ipython",
    "version": 2
   },
   "file_extension": ".py",
   "mimetype": "text/x-python",
   "name": "python",
   "nbconvert_exporter": "python",
   "pygments_lexer": "ipython2",
   "version": "2.7.15"
  }
 },
 "nbformat": 4,
 "nbformat_minor": 2
}
